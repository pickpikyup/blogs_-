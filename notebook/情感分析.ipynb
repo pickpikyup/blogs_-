{
 "cells": [
  {
   "cell_type": "code",
   "execution_count": 1,
   "metadata": {},
   "outputs": [
    {
     "output_type": "display_data",
     "data": {
      "text/plain": "HBox(children=(FloatProgress(value=1.0, bar_style='info', max=1.0), HTML(value='')))",
      "application/vnd.jupyter.widget-view+json": {
       "version_major": 2,
       "version_minor": 0,
       "model_id": "c39303a8f98a42829f36d6db5548ba5d"
      }
     },
     "metadata": {}
    }
   ],
   "source": [
    "import os\n",
    "\n",
    "import pandas as pd\n",
    "import numpy as np\n",
    "\n",
    "import tqdm \n",
    "tqdm.tqdm_notebook().pandas()\n",
    "\n",
    "# 中文NLP工具\n",
    "from string import punctuation\n",
    "import re\n"
   ]
  },
  {
   "cell_type": "code",
   "execution_count": 2,
   "metadata": {},
   "outputs": [],
   "source": [
    "df = pd.read_csv(\"../output/data.csv\")"
   ]
  },
  {
   "cell_type": "code",
   "execution_count": 5,
   "metadata": {},
   "outputs": [],
   "source": [
    "# Prepare Texts\n",
    "texts = df['text_preprocessed'].values.tolist()"
   ]
  },
  {
   "cell_type": "markdown",
   "metadata": {},
   "source": [
    "### 百度AI API"
   ]
  },
  {
   "cell_type": "code",
   "execution_count": 6,
   "metadata": {},
   "outputs": [
    {
     "output_type": "stream",
     "name": "stdout",
     "text": "\n"
    }
   ],
   "source": [
    "# encoding:utf-8\n",
    "import os\n",
    "import urllib \n",
    "import json\n",
    "import requests \n",
    "import time\n",
    "\n",
    "def get_AT(AK,SK):\n",
    "    # client_id 为官网获取的AK， client_secret 为官网获取的SK\n",
    "    host = \"https://aip.baidubce.com/oauth/2.0/token?grant_type=client_credentials&client_id={}&client_secret={}\".format(AK,SK)\n",
    "\n",
    "    response = requests.get(host)\n",
    "    if response:\n",
    "        print('Successfully get access_token')\n",
    "        return response.json()['access_token']\n",
    "    else:\n",
    "        print('Unable get access_token, retry in 3s...')\n",
    "        time.sleep(3)\n",
    "        return get_AT(AK,SK)\n",
    "\n",
    "def request_api(text, url):\n",
    "    \"\"\"\n",
    "    UTF-8 encode, use given url\n",
    "    \"\"\"\n",
    "    # send request\n",
    "    data = json.dumps({'text':text}).encode('utf-8')\n",
    "    request = urllib.request.Request(url=url,data=data)\n",
    "    request.add_header('Content-Type', 'application/json')\n",
    "    \n",
    "    # get answer\n",
    "    response = urllib.request.urlopen(request)\n",
    "    if response:\n",
    "        content = response.read().decode('utf-8')\n",
    "\n",
    "        rdata = json.loads(content)\n",
    "        return rdata\n",
    "    else:\n",
    "        print('Error, retry in 3s...')\n",
    "        time.sleep(3)\n",
    "        return request_api(text, api, AT)\n"
   ]
  },
  {
   "cell_type": "code",
   "execution_count": 7,
   "metadata": {},
   "outputs": [],
   "source": [
    "# Config  \n",
    "AK = \" your acces key 去百度AI 申请\"\n",
    "SK = \"your security key 同上\"\n",
    "\n",
    "AT = get_AT(AK,SK) # Get Date 2020/05/29  \n",
    "sentiment_classify_api = \"https://aip.baidubce.com/rpc/2.0/nlp/v1/sentiment_classify\"\n",
    "\n",
    "# prepare data and url\n",
    "url = sentiment_classify_api+\"?charset=UTF-8&access_token=\"+AT"
   ]
  },
  {
   "cell_type": "code",
   "execution_count": 8,
   "metadata": {},
   "outputs": [
    {
     "output_type": "display_data",
     "data": {
      "text/plain": "HBox(children=(FloatProgress(value=0.0, max=3214.0), HTML(value='')))",
      "application/vnd.jupyter.widget-view+json": {
       "version_major": 2,
       "version_minor": 0,
       "model_id": "ca708e4c192e4d0ab1159fadd3c395ad"
      }
     },
     "metadata": {}
    },
    {
     "output_type": "stream",
     "name": "stdout",
     "text": "\n"
    },
    {
     "output_type": "error",
     "ename": "KeyError",
     "evalue": "'items'",
     "traceback": [
      "\u001b[1;31m---------------------------------------------------------------------------\u001b[0m",
      "\u001b[1;31mKeyError\u001b[0m                                  Traceback (most recent call last)",
      "\u001b[1;32m<ipython-input-8-f39b1891a570>\u001b[0m in \u001b[0;36m<module>\u001b[1;34m\u001b[0m\n\u001b[0;32m     12\u001b[0m \u001b[1;33m\u001b[0m\u001b[0m\n\u001b[0;32m     13\u001b[0m \u001b[1;32mfor\u001b[0m \u001b[0mres\u001b[0m \u001b[1;32min\u001b[0m \u001b[0mres_list\u001b[0m\u001b[1;33m:\u001b[0m\u001b[1;33m\u001b[0m\u001b[1;33m\u001b[0m\u001b[0m\n\u001b[1;32m---> 14\u001b[1;33m     \u001b[0mres_items\u001b[0m \u001b[1;33m=\u001b[0m \u001b[0mres\u001b[0m\u001b[1;33m[\u001b[0m\u001b[1;34m'items'\u001b[0m\u001b[1;33m]\u001b[0m\u001b[1;33m[\u001b[0m\u001b[1;36m0\u001b[0m\u001b[1;33m]\u001b[0m\u001b[1;33m\u001b[0m\u001b[1;33m\u001b[0m\u001b[0m\n\u001b[0m\u001b[0;32m     15\u001b[0m     \u001b[1;32mfor\u001b[0m \u001b[0mkey\u001b[0m \u001b[1;32min\u001b[0m \u001b[0mres_items\u001b[0m\u001b[1;33m.\u001b[0m\u001b[0mkeys\u001b[0m\u001b[1;33m(\u001b[0m\u001b[1;33m)\u001b[0m\u001b[1;33m:\u001b[0m\u001b[1;33m\u001b[0m\u001b[1;33m\u001b[0m\u001b[0m\n\u001b[0;32m     16\u001b[0m         \u001b[0mitems_dic\u001b[0m\u001b[1;33m[\u001b[0m\u001b[0mkey\u001b[0m\u001b[1;33m]\u001b[0m\u001b[1;33m.\u001b[0m\u001b[0mappend\u001b[0m\u001b[1;33m(\u001b[0m\u001b[0mres_items\u001b[0m\u001b[1;33m[\u001b[0m\u001b[0mkey\u001b[0m\u001b[1;33m]\u001b[0m\u001b[1;33m)\u001b[0m\u001b[1;33m\u001b[0m\u001b[1;33m\u001b[0m\u001b[0m\n",
      "\u001b[1;31mKeyError\u001b[0m: 'items'"
     ]
    }
   ],
   "source": [
    "res_list = []\n",
    "items_dic = {\n",
    "    'positive_prob':[],\n",
    "    'negative_prob':[],\n",
    "    'confidence':[],\n",
    "    'sentiment':[]\n",
    "    }\n",
    "\n",
    "# POST baidu API\n",
    "for s in tqdm.notebook.tqdm(texts):\n",
    "    res_list.append(request_api(s, url))\n",
    "\n",
    "# flatten results\n",
    "for res in res_list:\n",
    "    try:\n",
    "        res_items = res['items'][0]\n",
    "    except:\n",
    "        res_items = {'positive_prob': 0, 'confidence': 0, 'negative_prob': 0, 'sentiment': 1}\n",
    "    \n",
    "    for key in res_items.keys():\n",
    "        items_dic[key].append(res_items[key])   "
   ]
  },
  {
   "cell_type": "code",
   "execution_count": 35,
   "metadata": {},
   "outputs": [],
   "source": [
    "# update result to df\n",
    "for key in items_dic.keys():\n",
    "    df[key] = items_dic[key]\n",
    "\n",
    "df['error_sentiment'] = 0\n",
    "df[df['confidence'] == 0]['error_sentiment'] = 1\n",
    "\n",
    "df['sentiment'].value_counts()"
   ]
  },
  {
   "cell_type": "code",
   "execution_count": 37,
   "metadata": {},
   "outputs": [],
   "source": [
    "# df.to_csv('../data/sentiment.csv')"
   ]
  }
 ],
 "metadata": {
  "language_info": {
   "codemirror_mode": {
    "name": "ipython",
    "version": 3
   },
   "file_extension": ".py",
   "mimetype": "text/x-python",
   "name": "python",
   "nbconvert_exporter": "python",
   "pygments_lexer": "ipython3",
   "version": "3.7.7-final"
  },
  "orig_nbformat": 2,
  "kernelspec": {
   "name": "python37364bitbasecondae0d13de402c14e6291c2f25574a2cb55",
   "display_name": "Python 3.7.3 64-bit ('base': conda)"
  }
 },
 "nbformat": 4,
 "nbformat_minor": 2
}